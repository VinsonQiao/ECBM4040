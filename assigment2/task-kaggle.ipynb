{
 "cells": [
  {
   "cell_type": "markdown",
   "metadata": {},
   "source": [
    "# ECBM E4040 - Assignment 2- Task 5: Kaggle Open-ended Competition\n",
    "\n",
    "Kaggle is a platform for predictive modelling and analytics competitions in which companies and researchers post data and statisticians and data miners compete to produce the best models for predicting and describing the data.\n",
    "\n",
    "If you don't have a Kaggle account, feel free to join at [www.kaggle.com](https://www.kaggle.com). To let the TAs do the grading more conveniently, please use Lionmail to join Kaggle and use UNI as your username.\n",
    "\n",
    "Visit the website for this competition to join: \n",
    "https://www.kaggle.com/t/80bbe298c9cb40fb9388637d8cbcdcd4\n",
    "\n",
    "Details about this in-class competition is shown on the website above. Please read carefully.\n",
    "\n",
    "<span style=\"color:red\">__TODO__:</span>\n",
    "1. Train a custom model for the bottle dataset classification problem. You are free to use any methods taught in the class or found by yourself on the Internet (ALWAYS provide reference to the source). General training methods include:\n",
    "    * Dropout\n",
    "    * Batch normalization\n",
    "    * Early stopping\n",
    "    * l1-norm & l2-norm penalization\n",
    "2. You'll be given the test set to generate your predictions (70% public + 30% private, but you don't know which ones are public/private). Achieve 70% accuracy on the public test set. The accuracy will be shown on the public leaderboard once you submit your prediction .csv file. \n",
    "3. (A) Report your results on the Kaggle, for comparison with other students' optimization results (you should do this several times). (C) Save your best model, using BitBucket, at the same time when you (B) submit the homework files into Courseworks. See instructions below. \n",
    "\n",
    "__Hint__: You can start from what you implemented in task 4. Another classic classification model named 'VGG16' can also be easily implemented."
   ]
  },
  {
   "cell_type": "markdown",
   "metadata": {},
   "source": [
    "## HW Submission Details:\n",
    "There are three components to reporting the results of this task: \n",
    "\n",
    "**(A) Submission (possibly several submissions) of the .csv prediction file throught the Kaggle platform;**. You should start doing this VERY early, so that students can compare their work as they are making progress with model optimization.\n",
    "\n",
    "**(B) Editing and submitting the content of this Jupyter notebook, through Courseworks; **\n",
    "(i) The code for your CNN model and for the training function. The code should be stored in __./ecbm4040/neuralnets/kaggle.py__;\n",
    "(ii) Print out your training process and accuracy __within this notebook__;\n",
    "\n",
    "**(C) Submitting your best CNN model through instructor-owned private BitBucket repo.**\n",
    "\n",
    "**Description of (C):** \n",
    "For this task, you will be utilizing bitbucket to save your model for submission. Bitbucket provides Git code managment. For those who are not familiar with git operations, please check [Learn Git with Bitbucket Cloud](https://www.atlassian.com/git/tutorials/learn-git-with-bitbucket-cloud) as reference.\n",
    "**TAs will create a private Bitbucket repository for each student, with the write access. This repo will be owned by the instructors. Make sure to properly submit your model to that exact repository (submissions to your own private repository will not count)** Students need to populate the following file to provide instructors with bitbucket account information: https://docs.google.com/spreadsheets/d/13Ot_9gr4DIx11ugEQ2EOC6y6gn3PtmxCQbvXU9p6NrE/edit#gid=0.\n",
    "\n",
    "<span style=\"color:red\">__Submission content:__ :</span>\n",
    "(i) Upload your best model with all the data output (for example, __MODEL.data-00000-of-00001, MODEL.meta, MODEL.index__) into the  BitBucket. Store your model in the folder named \"__KaggleModel__\" within the BitBucket repository. \n",
    "Remember to delete any intermediate results, **we only want your best model. Do not upload any data files**. The instructors will rerun the uploaded best model and verify against the score which you reported on the Kaggle.\n",
    "\n"
   ]
  },
  {
   "cell_type": "markdown",
   "metadata": {},
   "source": [
    "## Train your model here"
   ]
  },
  {
   "cell_type": "code",
   "execution_count": 1,
   "metadata": {},
   "outputs": [],
   "source": [
    "# YOUR CODE HERE\n",
    "# Import modules\n",
    "from __future__ import print_function\n",
    "import numpy as np\n",
    "from ecbm4040.cifar_utils import load_data\n",
    "import matplotlib.pyplot as plt\n",
    "import tensorflow as tf\n",
    "import matplotlib.image as mpimg # image reading\n",
    "%matplotlib inline\n",
    "%load_ext autoreload\n",
    "%autoreload 2"
   ]
  },
  {
   "cell_type": "code",
   "execution_count": 2,
   "metadata": {},
   "outputs": [
    {
     "name": "stdout",
     "output_type": "stream",
     "text": [
      "Train data shape:  (14000, 128, 128, 3)\n",
      "Train labels shape:  (14000,)\n",
      "Validation data shape:  (1000, 128, 128, 3)\n",
      "Validation labels shape:  (1000,)\n"
     ]
    }
   ],
   "source": [
    "'''\n",
    "Data_size: test: 3500 train: 3000*5\n",
    "Validation 1000\n",
    "'''\n",
    "X_train = np.zeros([15000,128,128,3])\n",
    "\n",
    "for i in range(3000):\n",
    "    X_train[5*i] = mpimg.imread('./data/train_128/'+str(0)+'/'+str(i)+'.png')\n",
    "    X_train[5*i+1] = mpimg.imread('./data/train_128/'+str(1)+'/'+str(i+3000)+'.png')\n",
    "    X_train[5*i+2] = mpimg.imread('./data/train_128/'+str(2)+'/'+str(i+6000)+'.png')\n",
    "    X_train[5*i+3] = mpimg.imread('./data/train_128/'+str(3)+'/'+str(i+9000)+'.png')\n",
    "    X_train[5*i+4] = mpimg.imread('./data/train_128/'+str(4)+'/'+str(i+12000)+'.png')\n",
    "\n",
    "train_cnt = int(15000 - 1000)\n",
    "index_val = np.random.choice(14000,14000,replace=False)\n",
    "index_train = np.arange(0,15000,1)\n",
    "y_train = np.array([0,1,2,3,4]*3000)\n",
    "\n",
    "\n",
    "X_val = X_train[train_cnt:]\n",
    "y_val = y_train[train_cnt:]\n",
    "\n",
    "X_train = X_train[:train_cnt]\n",
    "y_train = y_train[:train_cnt]\n",
    "\n",
    "X_train = X_train[index_val]\n",
    "y_train = y_train[index_val]\n",
    "\n",
    "print('Train data shape: ', X_train.shape)\n",
    "print('Train labels shape: ', y_train.shape)\n",
    "print('Validation data shape: ', X_val.shape)\n",
    "print('Validation labels shape: ', y_val.shape)"
   ]
  },
  {
   "cell_type": "code",
   "execution_count": 3,
   "metadata": {},
   "outputs": [
    {
     "name": "stdout",
     "output_type": "stream",
     "text": [
      "Building my LeNet. Parameters: \n",
      "conv_featmap=[32, 16]\n",
      "fc_units=[84, 84]\n",
      "conv_kernel_size=[3, 3]\n",
      "pooling_size=[4, 4]\n",
      "l2_norm=0.01\n",
      "seed=235\n",
      "learning_rate=0.01\n",
      "number of batches for training: 100\n",
      "epoch 1 \n",
      "Best validation accuracy! iteration:100 accuracy: 55.4%\n",
      "epoch 2 \n",
      "Best validation accuracy! iteration:200 accuracy: 63.7%\n",
      "epoch 3 \n",
      "Best validation accuracy! iteration:300 accuracy: 68.6%\n",
      "epoch 4 \n",
      "Best validation accuracy! iteration:400 accuracy: 69.8%\n",
      "epoch 5 \n",
      "Best validation accuracy! iteration:500 accuracy: 71.3%\n",
      "epoch 6 \n",
      "Best validation accuracy! iteration:600 accuracy: 72.2%\n",
      "epoch 7 \n",
      "Best validation accuracy! iteration:700 accuracy: 72.7%\n",
      "epoch 8 \n",
      "Best validation accuracy! iteration:800 accuracy: 73.9%\n",
      "epoch 9 \n",
      "Best validation accuracy! iteration:900 accuracy: 74.5%\n",
      "epoch 10 \n",
      "Best validation accuracy! iteration:1000 accuracy: 75.3%\n",
      "Traning ends. The best valid accuracy is 75.3. Model named kaggle_Phoenix_Jiawei_Ma.\n"
     ]
    }
   ],
   "source": [
    "from ecbm4040.neuralnets.kaggle import kaggle_training\n",
    "tf.reset_default_graph()\n",
    "kaggle_training(X_train, y_train, X_val, y_val,\n",
    "             conv_featmap=[32,16],\n",
    "             fc_units=[84,84],\n",
    "             conv_kernel_size=[3,3],\n",
    "             pooling_size=[4,4],\n",
    "             l2_norm=0.01,\n",
    "             seed=235,\n",
    "             keep_prob=1,\n",
    "             learning_rate=1e-2,\n",
    "             epoch=10,\n",
    "             batch_size=140,\n",
    "             verbose=False,\n",
    "             pre_trained_model=None)"
   ]
  },
  {
   "cell_type": "markdown",
   "metadata": {},
   "source": [
    "## Save your best model"
   ]
  },
  {
   "cell_type": "code",
   "execution_count": 4,
   "metadata": {},
   "outputs": [
    {
     "name": "stdout",
     "output_type": "stream",
     "text": [
      "Building my LeNet. Parameters: \n",
      "conv_featmap=[32, 16]\n",
      "fc_units=[84, 84]\n",
      "conv_kernel_size=[3, 3]\n",
      "pooling_size=[4, 4]\n",
      "l2_norm=0.01\n",
      "seed=235\n",
      "learning_rate=0.01\n",
      "number of batches for training: 25\n",
      "Load the model from: kaggle_Phoenix_Jiawei_Ma\n",
      "INFO:tensorflow:Restoring parameters from model/kaggle_Phoenix_Jiawei_Ma\n"
     ]
    }
   ],
   "source": [
    "# The best model has already been saved in the last cell,  I use this model to make the prediction\n",
    "X_test = np.zeros([3500,128,128,3])\n",
    "for i in range(3500):\n",
    "    X_test[i] = mpimg.imread('./data/test_128/'+str(i)+'.png')\n",
    "\n",
    "from ecbm4040.neuralnets.kaggle import kaggle_testing\n",
    "tf.reset_default_graph()\n",
    "y_test = np.zeros([3500])\n",
    "#X_test,y_test = X_val,y_val\n",
    "prediction,merge_all = kaggle_testing(X_test,y_test,\n",
    "             conv_featmap=[32,16],\n",
    "             fc_units=[84,84],\n",
    "             conv_kernel_size=[3,3],\n",
    "             pooling_size=[4,4],\n",
    "             l2_norm=0.01,\n",
    "             seed=235,\n",
    "             keep_prob=0.5,\n",
    "             learning_rate=1e-2,\n",
    "             epoch=25,\n",
    "             batch_size=140,\n",
    "             verbose=False,\n",
    "             pre_trained_model='kaggle_Phoenix_Jiawei_Ma')\n",
    "\n",
    "iter = len(prediction)\n",
    "for i in range(iter):\n",
    "    if i == 0:\n",
    "        pred_result = prediction[0]\n",
    "    else:\n",
    "        pred_result = np.hstack((pred_result,prediction[i]))\n",
    "\n",
    "np.savetxt(\"prediction.txt\",pred_result) "
   ]
  },
  {
   "cell_type": "markdown",
   "metadata": {},
   "source": [
    "## Generate .csv file for Kaggle"
   ]
  },
  {
   "cell_type": "code",
   "execution_count": 5,
   "metadata": {},
   "outputs": [],
   "source": [
    "# The following code snippet can be used to generate your prediction .csv file.\n",
    "Prediction =  np.loadtxt(\"prediction.txt\", delimiter=' ')\n",
    "import csv\n",
    "with open('predicted.csv','w') as csvfile:\n",
    "    fieldnames = ['Id','label']\n",
    "    writer = csv.DictWriter(csvfile, fieldnames=fieldnames)\n",
    "    writer.writeheader()    \n",
    "    for index,l in enumerate(Prediction):\n",
    "        filename = str(index)+'.png'\n",
    "        label = str(l)\n",
    "        writer.writerow({'Id': filename, 'label': label})"
   ]
  },
  {
   "cell_type": "code",
   "execution_count": null,
   "metadata": {},
   "outputs": [],
   "source": [
    "'''\n",
    "Dear TA, the my highest test score is 0.84979 but the model I provide for you corresponding to the score 0.82367.\n",
    "And the model corresponding to 0.84979 is rewrite accidently and I so embrassing and sorry that I cannot reproduce the model.\n",
    "Thanks!\n",
    "'''"
   ]
  }
 ],
 "metadata": {
  "kernelspec": {
   "display_name": "Python 3",
   "language": "python",
   "name": "python3"
  },
  "language_info": {
   "codemirror_mode": {
    "name": "ipython",
    "version": 3
   },
   "file_extension": ".py",
   "mimetype": "text/x-python",
   "name": "python",
   "nbconvert_exporter": "python",
   "pygments_lexer": "ipython3",
   "version": "3.6.5"
  }
 },
 "nbformat": 4,
 "nbformat_minor": 2
}
