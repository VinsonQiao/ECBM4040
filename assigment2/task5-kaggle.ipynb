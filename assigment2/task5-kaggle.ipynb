{
 "cells": [
  {
   "cell_type": "markdown",
   "metadata": {},
   "source": [
    "# ECBM E4040 - Assignment 2- Task 5: Kaggle Open-ended Competition\n",
    "\n",
    "Kaggle is a platform for predictive modelling and analytics competitions in which companies and researchers post data and statisticians and data miners compete to produce the best models for predicting and describing the data.\n",
    "\n",
    "If you don't have a Kaggle account, feel free to join at [www.kaggle.com](https://www.kaggle.com). To let the TAs do the grading more conveniently, please use Lionmail to join Kaggle and use UNI as your username.\n",
    "\n",
    "Visit the website for this competition to join: \n",
    "https://www.kaggle.com/t/80bbe298c9cb40fb9388637d8cbcdcd4\n",
    "\n",
    "Details about this in-class competition is shown on the website above. Please read carefully.\n",
    "\n",
    "<span style=\"color:red\">__TODO__:</span>\n",
    "1. Train a custom model for the bottle dataset classification problem. You are free to use any methods taught in the class or found by yourself on the Internet (ALWAYS provide reference to the source). General training methods include:\n",
    "    * Dropout\n",
    "    * Batch normalization\n",
    "    * Early stopping\n",
    "    * l1-norm & l2-norm penalization\n",
    "2. You'll be given the test set to generate your predictions (70% public + 30% private, but you don't know which ones are public/private). Achieve 70% accuracy on the public test set. The accuracy will be shown on the public leaderboard once you submit your prediction .csv file. \n",
    "3. (A) Report your results on the Kaggle, for comparison with other students' optimization results (you should do this several times). (C) Save your best model, using BitBucket, at the same time when you (B) submit the homework files into Courseworks. See instructions below. \n",
    "\n",
    "__Hint__: You can start from what you implemented in task 4. Another classic classification model named 'VGG16' can also be easily implemented."
   ]
  },
  {
   "cell_type": "markdown",
   "metadata": {},
   "source": [
    "## HW Submission Details:\n",
    "There are three components to reporting the results of this task: \n",
    "\n",
    "**(A) Submission (possibly several submissions) of the .csv prediction file throught the Kaggle platform;**. You should start doing this VERY early, so that students can compare their work as they are making progress with model optimization.\n",
    "\n",
    "**(B) Editing and submitting the content of this Jupyter notebook, through Courseworks; **\n",
    "(i) The code for your CNN model and for the training function. The code should be stored in __./ecbm4040/neuralnets/kaggle.py__;\n",
    "(ii) Print out your training process and accuracy __within this notebook__;\n",
    "\n",
    "**(C) Submitting your best CNN model through instructor-owned private BitBucket repo.**\n",
    "\n",
    "**Description of (C):** \n",
    "For this task, you will be utilizing bitbucket to save your model for submission. Bitbucket provides Git code managment. For those who are not familiar with git operations, please check [Learn Git with Bitbucket Cloud](https://www.atlassian.com/git/tutorials/learn-git-with-bitbucket-cloud) as reference.\n",
    "**TAs will create a private Bitbucket repository for each student, with the write access. This repo will be owned by the instructors. Make sure to properly submit your model to that exact repository (submissions to your own private repository will not count)** Students need to populate the following file to provide instructors with bitbucket account information: https://docs.google.com/spreadsheets/d/13Ot_9gr4DIx11ugEQ2EOC6y6gn3PtmxCQbvXU9p6NrE/edit#gid=0.\n",
    "\n",
    "<span style=\"color:red\">__Submission content:__ :</span>\n",
    "(i) Upload your best model with all the data output (for example, __MODEL.data-00000-of-00001, MODEL.meta, MODEL.index__) into the  BitBucket. Store your model in the folder named \"__KaggleModel__\" within the BitBucket repository. \n",
    "Remember to delete any intermediate results, **we only want your best model. Do not upload any data files**. The instructors will rerun the uploaded best model and verify against the score which you reported on the Kaggle.\n",
    "\n"
   ]
  },
  {
   "cell_type": "markdown",
   "metadata": {},
   "source": [
    "## Train your model here"
   ]
  },
  {
   "cell_type": "code",
   "execution_count": 1,
   "metadata": {},
   "outputs": [],
   "source": [
    "# YOUR CODE HERE\n",
    "import matplotlib.pyplot as plt\n",
    "import tensorflow as tf\n",
    "import numpy as np\n",
    "import os\n",
    "from scipy import misc\n",
    "import matplotlib.image as mpimg\n",
    "from ecbm4040.image_generator import ImageGenerator\n",
    "\n",
    "%matplotlib inline\n",
    "%load_ext autoreload\n",
    "%autoreload 2"
   ]
  },
  {
   "cell_type": "code",
   "execution_count": 3,
   "metadata": {},
   "outputs": [],
   "source": [
    "#os.getcwd()"
   ]
  },
  {
   "cell_type": "code",
   "execution_count": 4,
   "metadata": {},
   "outputs": [],
   "source": [
    "#m=mpimg.imread('/home/ecbm4040/train_128/0/1.png')\n",
    "#m=misc.imread('/Users/apple/Downloads/all/train_128/0/1.png')"
   ]
  },
  {
   "cell_type": "code",
   "execution_count": 2,
   "metadata": {},
   "outputs": [
    {
     "name": "stdout",
     "output_type": "stream",
     "text": [
      "X_train:  (13500, 128, 128, 3)\n",
      "y_train:  (13500,)\n",
      "X_val:  (1500, 128, 128, 3)\n",
      "y_val: (1500,)\n"
     ]
    }
   ],
   "source": [
    "#load data\n",
    "#train data size: 5*3000=15000\n",
    "#test data size:3500\n",
    "\n",
    "X_train=np.zeros([15000,128,128,3])\n",
    "y_train=np.zeros(15000)\n",
    "for i in range(3000):\n",
    "    #read img from 5 directories\n",
    "    X_train[5*i]=mpimg.imread('/home/ecbm4040/train_128/0/'+str(i)+'.png')\n",
    "    X_train[5*i+1]=mpimg.imread('/home/ecbm4040/train_128/1/'+str(i+3000)+'.png')\n",
    "    X_train[5*i+2]=mpimg.imread('/home/ecbm4040/train_128/2/'+str(i+6000)+'.png')\n",
    "    X_train[5*i+3]=mpimg.imread('/home/ecbm4040/train_128/3/'+str(i+9000)+'.png')\n",
    "    X_train[5*i+4]=mpimg.imread('/home/ecbm4040/train_128/4/'+str(i+12000)+'.png')\n",
    "    y_train[5*i]=0\n",
    "    y_train[5*i+1]=1\n",
    "    y_train[5*i+2]=2\n",
    "    y_train[5*i+3]=3\n",
    "    y_train[5*i+4]=4\n",
    "    \n",
    "#X_train=np.zeros([15000,128,128,3])\n",
    "#for i in range(3500):\n",
    "#    X\n",
    "\n",
    "#get X_val & y_val with size 1500:\n",
    "X_val=X_train[-1500:]\n",
    "y_val=y_train[-1500:]\n",
    "\n",
    "X_train=X_train[:-1500]\n",
    "y_train=y_train[:-1500]\n",
    "\n",
    "print('X_train: ',X_train.shape)\n",
    "print('y_train: ',y_train.shape)\n",
    "print('X_val: ',X_val.shape)\n",
    "print('y_val:',y_val.shape)\n",
    "    "
   ]
  },
  {
   "cell_type": "code",
   "execution_count": 3,
   "metadata": {},
   "outputs": [
    {
     "name": "stdout",
     "output_type": "stream",
     "text": [
      "X_test:  (3500, 128, 128, 3)\n"
     ]
    }
   ],
   "source": [
    "X_test=np.zeros([3500,128,128,3])\n",
    "y_test=np.zeros(3500)\n",
    "for i in range(3500):\n",
    "    #read img from directory\n",
    "    X_test[i]=mpimg.imread('/home/ecbm4040/test_128/'+str(i)+'.png')\n",
    "\n",
    "print('X_test: ',X_test.shape) \n"
   ]
  },
  {
   "cell_type": "code",
   "execution_count": 11,
   "metadata": {
    "scrolled": true
   },
   "outputs": [
    {
     "name": "stdout",
     "output_type": "stream",
     "text": [
      "Building my LeNet. Parameters: \n",
      "conv_featmap=[32, 32, 32]\n",
      "fc_units=[84, 84]\n",
      "conv_kernel_size=[5, 5, 5]\n",
      "pooling_size=[2, 2, 2]\n",
      "l2_norm=0.01\n",
      "seed=235\n",
      "learning_rate=0.01\n",
      "number of batches for training: 42\n",
      "epoch 1 \n",
      "epoch 2 \n",
      "epoch 3 \n",
      "Best validation accuracy! iteration:100 accuracy: 64.66666666666666%\n",
      "epoch 4 \n",
      "epoch 5 \n",
      "Best validation accuracy! iteration:200 accuracy: 68.8%\n",
      "epoch 6 \n",
      "epoch 7 \n",
      "epoch 8 \n",
      "Best validation accuracy! iteration:300 accuracy: 81.6%\n",
      "epoch 9 \n",
      "epoch 10 \n",
      "Best validation accuracy! iteration:400 accuracy: 83.4%\n",
      "epoch 11 \n",
      "epoch 12 \n",
      "Best validation accuracy! iteration:500 accuracy: 84.33333333333333%\n",
      "epoch 13 \n",
      "epoch 14 \n",
      "epoch 15 \n",
      "Best validation accuracy! iteration:600 accuracy: 85.06666666666666%\n",
      "epoch 16 \n",
      "epoch 17 \n",
      "valid acc:  58.333333333333336\n",
      "epoch 18 \n",
      "epoch 19 \n",
      "epoch 20 \n",
      "valid acc:  82.86666666666667\n",
      "Traning ends. The best valid accuracy is 85.06666666666666. Model named task5_1541141456.\n"
     ]
    }
   ],
   "source": [
    "from ecbm4040.neuralnets.kaggle import my_training_task5\n",
    "tf.reset_default_graph()\n",
    "# my_training(X_train, y_train, X_val, y_val, ...)\n",
    "\n",
    "my_training_task5(X_train, y_train, X_val, y_val,\n",
    "                conv_featmap=[32,32,32],\n",
    "                fc_units=[84,84],\n",
    "                conv_kernel_size=[5,5,5],\n",
    "                pooling_size=[2,2,2],\n",
    "                l2_norm=0.01,\n",
    "                seed=235,\n",
    "                learning_rate=1e-2,\n",
    "                epoch=20,\n",
    "                batch_size=320,\n",
    "                verbose=False,\n",
    "                pre_trained_model=None)"
   ]
  },
  {
   "cell_type": "markdown",
   "metadata": {},
   "source": [
    "## Save your best model"
   ]
  },
  {
   "cell_type": "code",
   "execution_count": 12,
   "metadata": {},
   "outputs": [
    {
     "name": "stdout",
     "output_type": "stream",
     "text": [
      "Building my LeNet. Parameters: \n",
      "conv_featmap=[32, 32, 32]\n",
      "fc_units=[84, 84]\n",
      "conv_kernel_size=[5, 5, 5]\n",
      "pooling_size=[2, 2, 2]\n",
      "l2_norm=0.01\n",
      "seed=235\n",
      "learning_rate=0.01\n",
      "number of batches for training: 3500\n",
      "Load the model from: task5_1541141456\n",
      "INFO:tensorflow:Restoring parameters from model/task5_1541141456\n"
     ]
    }
   ],
   "source": [
    "# YOUR CODE HERE\n",
    "from ecbm4040.neuralnets.kaggle import test\n",
    "tf.reset_default_graph()\n",
    "prediction,merge_all=test(X_test, y_test, \n",
    "                conv_featmap=[32,32,32],\n",
    "                fc_units=[84,84],\n",
    "                conv_kernel_size=[5,5,5],\n",
    "                pooling_size=[2,2,2],\n",
    "                l2_norm=0.01,\n",
    "                seed=235,\n",
    "                learning_rate=1e-2,\n",
    "                epoch=20,\n",
    "                batch_size=320,\n",
    "                verbose=False,\n",
    "                pre_trained_model='task5_1541141456')\n"
   ]
  },
  {
   "cell_type": "markdown",
   "metadata": {},
   "source": [
    "## Generate .csv file for Kaggle"
   ]
  },
  {
   "cell_type": "code",
   "execution_count": 11,
   "metadata": {},
   "outputs": [
    {
     "name": "stdout",
     "output_type": "stream",
     "text": [
      "3500\n",
      "3500\n"
     ]
    }
   ],
   "source": [
    "print(len(prediction))\n",
    "print(len(merge_all))\n",
    "#print(merge_all[2])"
   ]
  },
  {
   "cell_type": "code",
   "execution_count": 10,
   "metadata": {},
   "outputs": [],
   "source": [
    "# The following code snippet can be used to generate your prediction .csv file.\n",
    "\n",
    "import csv\n",
    "with open('predicted.csv','w') as csvfile:\n",
    "     fieldnames = ['Id','label']\n",
    "     writer = csv.DictWriter(csvfile, fieldnames=fieldnames)\n",
    "     writer.writeheader()    \n",
    "     for index,l in enumerate(prediction):\n",
    "         filename = str(index)+'.png'\n",
    "         label = str(int(l))\n",
    "         writer.writerow({'Id': filename, 'label': label})"
   ]
  },
  {
   "cell_type": "code",
   "execution_count": null,
   "metadata": {},
   "outputs": [],
   "source": []
  }
 ],
 "metadata": {
  "kernelspec": {
   "display_name": "Python 3",
   "language": "python",
   "name": "python3"
  },
  "language_info": {
   "codemirror_mode": {
    "name": "ipython",
    "version": 3
   },
   "file_extension": ".py",
   "mimetype": "text/x-python",
   "name": "python",
   "nbconvert_exporter": "python",
   "pygments_lexer": "ipython3",
   "version": "3.6.5"
  }
 },
 "nbformat": 4,
 "nbformat_minor": 2
}
