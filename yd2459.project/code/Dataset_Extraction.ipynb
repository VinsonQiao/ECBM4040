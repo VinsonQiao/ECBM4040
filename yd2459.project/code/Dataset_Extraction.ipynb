{
 "cells": [
  {
   "cell_type": "code",
   "execution_count": 1,
   "metadata": {
    "collapsed": true
   },
   "outputs": [],
   "source": [
    "import _pickle as pickle\n",
    "import os\n",
    "import tarfile\n",
    "import glob\n",
    "import urllib.request as url\n",
    "import numpy as np\n",
    "import h5py\n",
    "import random\n",
    "from PIL import Image\n",
    "import tensorflow as tf\n",
    "import json"
   ]
  },
  {
   "cell_type": "code",
   "execution_count": 4,
   "metadata": {
    "collapsed": false
   },
   "outputs": [
    {
     "name": "stdout",
     "output_type": "stream",
     "text": [
      "Train data already exists.\n"
     ]
    }
   ],
   "source": [
    "#download compressed data\n",
    "if not os.path.exists('./data'):\n",
    "    try:\n",
    "        os.mkdir('./data')\n",
    "        print('Downloading train data')\n",
    "        url.urlretrieve(\"http://ufldl.stanford.edu/housenumbers/train.tar.gz\",\"./data/train.tar.gz\")\n",
    "    except Exception as exc:\n",
    "        print(exc)\n",
    "elif os.path.exists('./data/train.tar.gz'):\n",
    "    print('Train data already exists.')"
   ]
  },
  {
   "cell_type": "code",
   "execution_count": 6,
   "metadata": {
    "collapsed": false
   },
   "outputs": [
    {
     "name": "stdout",
     "output_type": "stream",
     "text": [
      "Train data already extracted.\n"
     ]
    }
   ],
   "source": [
    "#extract data\n",
    "if not os.path.exists('./data/train/'):\n",
    "    try:\n",
    "        package = tarfile.open('./data/train.tar.gz')\n",
    "        package.extractall('./data')\n",
    "        package.close()\n",
    "    except Exception as exc:\n",
    "        print(exc)\n",
    "elif os.path.exists('./data/train/'):\n",
    "    print('Train data already extracted.')"
   ]
  },
  {
   "cell_type": "code",
   "execution_count": 9,
   "metadata": {
    "collapsed": false
   },
   "outputs": [
    {
     "name": "stdout",
     "output_type": "stream",
     "text": [
      "Test data already exists.\n"
     ]
    }
   ],
   "source": [
    "if not os.path.exists('./data/test.tar.gz'):\n",
    "    try:\n",
    "        print('Downloading test data')\n",
    "        url.urlretrieve(\"http://ufldl.stanford.edu/housenumbers/test.tar.gz\",\"./data/test.tar.gz\")\n",
    "    except Exception as exc:\n",
    "        print(exc)\n",
    "elif os.path.exists('./data/test.tar.gz'):\n",
    "    print('Test data already exists.')"
   ]
  },
  {
   "cell_type": "code",
   "execution_count": 11,
   "metadata": {
    "collapsed": false
   },
   "outputs": [
    {
     "name": "stdout",
     "output_type": "stream",
     "text": [
      "Test data already extracted.\n"
     ]
    }
   ],
   "source": [
    "if not os.path.exists('./data/test/'):\n",
    "    try:\n",
    "        package = tarfile.open('./data/test.tar.gz')\n",
    "        package.extractall('./data')\n",
    "        package.close()\n",
    "    except Exception as exc:\n",
    "        print(exc)\n",
    "elif os.path.exists('./data/test/'):\n",
    "    print('Test data already extracted.')"
   ]
  },
  {
   "cell_type": "code",
   "execution_count": 12,
   "metadata": {
    "collapsed": false
   },
   "outputs": [
    {
     "name": "stdout",
     "output_type": "stream",
     "text": [
      "Extra data already exists.\n"
     ]
    }
   ],
   "source": [
    "if not os.path.exists('./data/extra.tar.gz'):\n",
    "    try:\n",
    "        print('Downloading extra data')\n",
    "        url.urlretrieve(\"http://ufldl.stanford.edu/housenumbers/extra.tar.gz\",\"./data/extra.tar.gz\")\n",
    "    except Exception as exc:\n",
    "        print(exc)\n",
    "elif os.path.exists('./data/extra.tar.gz'):\n",
    "    print('Extra data already exists.')"
   ]
  },
  {
   "cell_type": "code",
   "execution_count": 14,
   "metadata": {
    "collapsed": false
   },
   "outputs": [
    {
     "name": "stdout",
     "output_type": "stream",
     "text": [
      "Extra data already extracted.\n"
     ]
    }
   ],
   "source": [
    "if not os.path.exists('./data/extra/'):\n",
    "    try:\n",
    "        package = tarfile.open('./data/extra.tar.gz')\n",
    "        package.extractall('./data')\n",
    "        package.close()\n",
    "    except Exception as exc:\n",
    "        print(exc)\n",
    "elif os.path.exists('./data/extra/'):\n",
    "    print('Extra data already extracted.')"
   ]
  },
  {
   "cell_type": "code",
   "execution_count": 29,
   "metadata": {
    "collapsed": false
   },
   "outputs": [
    {
     "name": "stdout",
     "output_type": "stream",
     "text": [
      "Total extra data: 33402. Maximum digit length is 6, with 1 images.\n"
     ]
    }
   ],
   "source": [
    "#print basic data info\n",
    "image_data = tf.gfile.Glob(os.path.join('./data/train', '*.png'))\n",
    "train_struct =  './data/train/digitStruct.mat'\n",
    "struct_file = h5py.File(train_struct, 'r')\n",
    "max_digit = 0\n",
    "max_digit_cnt=0\n",
    "for i in range(len(image_data)):\n",
    "    item = struct_file['digitStruct']['bbox'][i].item()\n",
    "    label = struct_file[item]['label']\n",
    "    if max_digit < len(label):\n",
    "        max_digit = len(label)\n",
    "        max_digit_cnt = 0\n",
    "    if len(label)==max_digit:\n",
    "        max_digit_cnt+=1  \n",
    "print('Total train data: %d. Maximum digit length is %d, with %d images.' %(len(image_data), max_digit, max_digit_cnt))"
   ]
  },
  {
   "cell_type": "code",
   "execution_count": 31,
   "metadata": {
    "collapsed": false
   },
   "outputs": [
    {
     "name": "stdout",
     "output_type": "stream",
     "text": [
      "Total extra data: 13068. Maximum digit length is 5, with 2 images\n"
     ]
    }
   ],
   "source": [
    "image_data = tf.gfile.Glob(os.path.join('./data/test', '*.png'))\n",
    "test_struct =  './data/test/digitStruct.mat'\n",
    "struct_file = h5py.File(test_struct, 'r')\n",
    "max_digit = 0\n",
    "max_digit_cnt=0\n",
    "for index in range(len(image_data)):\n",
    "    item = struct_file['digitStruct']['bbox'][index].item()\n",
    "    label = struct_file[item]['label']\n",
    "    if max_digit < len(label):\n",
    "        max_digit = len(label)\n",
    "        max_digit_cnt = 0\n",
    "    if len(label)==max_digit:\n",
    "        max_digit_cnt+=1 \n",
    "print('Total test data: %d. Maximum digit length is %d, with %d images' % (len(image_data), max_digit, max_digit_cnt))"
   ]
  },
  {
   "cell_type": "code",
   "execution_count": 32,
   "metadata": {
    "collapsed": false
   },
   "outputs": [
    {
     "name": "stdout",
     "output_type": "stream",
     "text": [
      "Total extra data: 202353. Maximum digit length is 5, with 115 images\n"
     ]
    }
   ],
   "source": [
    "image_data = tf.gfile.Glob(os.path.join('./data/extra', '*.png'))\n",
    "test_struct =  './data/extra/digitStruct.mat'\n",
    "struct_file = h5py.File(test_struct, 'r')\n",
    "max_digit = 0\n",
    "max_digit_cnt=0\n",
    "for index in range(len(image_data)):\n",
    "    item = struct_file['digitStruct']['bbox'][index].item()\n",
    "    label = struct_file[item]['label']\n",
    "    if max_digit < len(label):\n",
    "        max_digit = len(label)\n",
    "        max_digit_cnt = 0\n",
    "    if len(label)==max_digit:\n",
    "        max_digit_cnt+=1 \n",
    "print('Total extra data: %d. Maximum digit length is %d, with %d images' % (len(image_data), max_digit, max_digit_cnt))"
   ]
  }
 ],
 "metadata": {
  "anaconda-cloud": {},
  "kernelspec": {
   "display_name": "Python [default]",
   "language": "python",
   "name": "python3"
  },
  "language_info": {
   "codemirror_mode": {
    "name": "ipython",
    "version": 3
   },
   "file_extension": ".py",
   "mimetype": "text/x-python",
   "name": "python",
   "nbconvert_exporter": "python",
   "pygments_lexer": "ipython3",
   "version": "3.5.2"
  }
 },
 "nbformat": 4,
 "nbformat_minor": 2
}
